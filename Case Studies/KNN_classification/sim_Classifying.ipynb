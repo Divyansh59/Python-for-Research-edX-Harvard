{
 "nbformat": 4,
 "nbformat_minor": 2,
 "metadata": {
  "language_info": {
   "name": "python",
   "codemirror_mode": {
    "name": "ipython",
    "version": 3
   },
   "version": "3.7.4-final"
  },
  "orig_nbformat": 2,
  "file_extension": ".py",
  "mimetype": "text/x-python",
  "name": "python",
  "npconvert_exporter": "python",
  "pygments_lexer": "ipython3",
  "version": 3,
  "kernelspec": {
   "name": "python3",
   "display_name": "Python 3"
  }
 },
 "cells": [
  {
   "cell_type": "code",
   "execution_count": 421,
   "metadata": {},
   "outputs": [],
   "source": [
    "import numpy as np \n",
    "import scipy.stats as ss \n",
    "import random\n",
    "import matplotlib.pyplot as plt "
   ]
  },
  {
   "cell_type": "code",
   "execution_count": 422,
   "metadata": {},
   "outputs": [],
   "source": [
    "p1 = np.array([1,1])\n",
    "p2 = np.array([4,4])   "
   ]
  },
  {
   "cell_type": "code",
   "execution_count": 423,
   "metadata": {},
   "outputs": [],
   "source": [
    "def distance(p1, p2):\n",
    "    \"\"\"Finds the Euclidean distance between two points\"\"\"\n",
    "    return np.sqrt(np.sum(np.power(p1 - p2, 2)))"
   ]
  },
  {
   "cell_type": "code",
   "execution_count": 424,
   "metadata": {},
   "outputs": [],
   "source": [
    "def majority_vote(votes):\n",
    "    \"\"\"Returns the mode of raw arbitrary data\"\"\"\n",
    "    vote_counts = {}\n",
    "\n",
    "    for vote in votes:\n",
    "        if vote in vote_counts:\n",
    "            vote_counts[vote] += 1\n",
    "        else:\n",
    "            vote_counts[vote] = 1\n",
    "\n",
    "    winners = []\n",
    "    max_count = max(vote_counts.values())\n",
    "    for vote, count in vote_counts.items():\n",
    "        if count == max_count:\n",
    "            winners.append(vote)\n",
    "    return random.choice(winners)"
   ]
  },
  {
   "cell_type": "code",
   "execution_count": 425,
   "metadata": {},
   "outputs": [
    {
     "output_type": "execute_result",
     "data": {
      "text/plain": "3"
     },
     "metadata": {},
     "execution_count": 425
    }
   ],
   "source": [
    "votes = [1,2,3,1,2,3,1,2,3,]\n",
    "vote_counts = majority_vote(votes)\n",
    "vote_counts"
   ]
  },
  {
   "cell_type": "code",
   "execution_count": 426,
   "metadata": {},
   "outputs": [
    {
     "output_type": "execute_result",
     "data": {
      "text/plain": "array([1.])"
     },
     "metadata": {},
     "execution_count": 426
    }
   ],
   "source": [
    "def mode(votes):\n",
    "    \"\"\"Returns the mode of raw arbitrary data\"\"\"\n",
    "    mode, count =  ss.mstats.mode(votes)\n",
    "    return mode\n",
    "mode(votes)"
   ]
  },
  {
   "cell_type": "code",
   "execution_count": 427,
   "metadata": {},
   "outputs": [],
   "source": [
    "def find_nearest_neighbors(p, points, k=5):\n",
    "    distances = np.zeros(points.shape[0])\n",
    "    for i in range(len(distances)):\n",
    "        distances[i] = distance(p, points[i])\n",
    "    ind = np.argsort(distances)\n",
    "    return ind[:k]"
   ]
  },
  {
   "cell_type": "code",
   "execution_count": 428,
   "metadata": {},
   "outputs": [
    {
     "output_type": "stream",
     "name": "stdout",
     "text": "[[2 2]\n [1 1]]\n"
    }
   ],
   "source": [
    "p = np.array([2.5, 1.5])\n",
    "points = np.array([[1,1], [2,2], [3,3]])\n",
    "outcomes = np.array([0, 0, 1])\n",
    "\n",
    "print(points[find_nearest_neighbors(p, points, k=2)])"
   ]
  },
  {
   "cell_type": "code",
   "execution_count": 429,
   "metadata": {},
   "outputs": [],
   "source": [
    "def knn_predict(p, points, outcomes, k = 5):\n",
    "    ind = find_nearest_neighbors(p, points, k)\n",
    "    return majority_vote(outcomes[ind])"
   ]
  },
  {
   "cell_type": "code",
   "execution_count": 430,
   "metadata": {},
   "outputs": [
    {
     "output_type": "execute_result",
     "data": {
      "text/plain": "0"
     },
     "metadata": {},
     "execution_count": 430
    }
   ],
   "source": [
    "knn_predict(p, points, outcomes, 3)"
   ]
  },
  {
   "cell_type": "code",
   "execution_count": 431,
   "metadata": {},
   "outputs": [],
   "source": [
    "def generate_synth_data(n=50):\n",
    "    \"\"\"Creates two sets of points from bivriate normal distribution\"\"\"\n",
    "    points = np.concatenate((ss.norm(0,1).rvs((n,2)), ss.norm(1,1).rvs((n,2))), axis=0)\n",
    "    outcomes = np.concatenate((np.repeat(0,n), np.repeat(1,n)))\n",
    "    return(points, outcomes)\n",
    "    "
   ]
  },
  {
   "cell_type": "code",
   "execution_count": 432,
   "metadata": {},
   "outputs": [],
   "source": [
    "n = 20\n",
    "points, outcomes = generate_synth_data(20)"
   ]
  },
  {
   "cell_type": "code",
   "execution_count": 433,
   "metadata": {},
   "outputs": [
    {
     "output_type": "display_data",
     "data": {
      "text/plain": "<Figure size 432x288 with 1 Axes>",
      "image/svg+xml": "<?xml version=\"1.0\" encoding=\"utf-8\" standalone=\"no\"?>\n<!DOCTYPE svg PUBLIC \"-//W3C//DTD SVG 1.1//EN\"\n  \"http://www.w3.org/Graphics/SVG/1.1/DTD/svg11.dtd\">\n<!-- Created with matplotlib (https://matplotlib.org/) -->\n<svg height=\"248.518125pt\" version=\"1.1\" viewBox=\"0 0 380.482812 248.518125\" width=\"380.482812pt\" xmlns=\"http://www.w3.org/2000/svg\" xmlns:xlink=\"http://www.w3.org/1999/xlink\">\n <defs>\n  <style type=\"text/css\">\n*{stroke-linecap:butt;stroke-linejoin:round;}\n  </style>\n </defs>\n <g id=\"figure_1\">\n  <g id=\"patch_1\">\n   <path d=\"M -0 248.518125 \nL 380.482812 248.518125 \nL 380.482812 0 \nL -0 0 \nz\n\" style=\"fill:none;\"/>\n  </g>\n  <g id=\"axes_1\">\n   <g id=\"patch_2\">\n    <path d=\"M 38.482813 224.64 \nL 373.282813 224.64 \nL 373.282813 7.2 \nL 38.482813 7.2 \nz\n\" style=\"fill:#ffffff;\"/>\n   </g>\n   <g id=\"matplotlib.axis_1\">\n    <g id=\"xtick_1\">\n     <g id=\"line2d_1\">\n      <defs>\n       <path d=\"M 0 0 \nL 0 3.5 \n\" id=\"mbbdd58ccf7\" style=\"stroke:#000000;stroke-width:0.8;\"/>\n      </defs>\n      <g>\n       <use style=\"stroke:#000000;stroke-width:0.8;\" x=\"102.252243\" xlink:href=\"#mbbdd58ccf7\" y=\"224.64\"/>\n      </g>\n     </g>\n     <g id=\"text_1\">\n      <!-- −1 -->\n      <defs>\n       <path d=\"M 10.59375 35.5 \nL 73.1875 35.5 \nL 73.1875 27.203125 \nL 10.59375 27.203125 \nz\n\" id=\"DejaVuSans-8722\"/>\n       <path d=\"M 12.40625 8.296875 \nL 28.515625 8.296875 \nL 28.515625 63.921875 \nL 10.984375 60.40625 \nL 10.984375 69.390625 \nL 28.421875 72.90625 \nL 38.28125 72.90625 \nL 38.28125 8.296875 \nL 54.390625 8.296875 \nL 54.390625 0 \nL 12.40625 0 \nz\n\" id=\"DejaVuSans-49\"/>\n      </defs>\n      <g transform=\"translate(94.881149 239.238437)scale(0.1 -0.1)\">\n       <use xlink:href=\"#DejaVuSans-8722\"/>\n       <use x=\"83.789062\" xlink:href=\"#DejaVuSans-49\"/>\n      </g>\n     </g>\n    </g>\n    <g id=\"xtick_2\">\n     <g id=\"line2d_2\">\n      <g>\n       <use style=\"stroke:#000000;stroke-width:0.8;\" x=\"172.591002\" xlink:href=\"#mbbdd58ccf7\" y=\"224.64\"/>\n      </g>\n     </g>\n     <g id=\"text_2\">\n      <!-- 0 -->\n      <defs>\n       <path d=\"M 31.78125 66.40625 \nQ 24.171875 66.40625 20.328125 58.90625 \nQ 16.5 51.421875 16.5 36.375 \nQ 16.5 21.390625 20.328125 13.890625 \nQ 24.171875 6.390625 31.78125 6.390625 \nQ 39.453125 6.390625 43.28125 13.890625 \nQ 47.125 21.390625 47.125 36.375 \nQ 47.125 51.421875 43.28125 58.90625 \nQ 39.453125 66.40625 31.78125 66.40625 \nz\nM 31.78125 74.21875 \nQ 44.046875 74.21875 50.515625 64.515625 \nQ 56.984375 54.828125 56.984375 36.375 \nQ 56.984375 17.96875 50.515625 8.265625 \nQ 44.046875 -1.421875 31.78125 -1.421875 \nQ 19.53125 -1.421875 13.0625 8.265625 \nQ 6.59375 17.96875 6.59375 36.375 \nQ 6.59375 54.828125 13.0625 64.515625 \nQ 19.53125 74.21875 31.78125 74.21875 \nz\n\" id=\"DejaVuSans-48\"/>\n      </defs>\n      <g transform=\"translate(169.409752 239.238437)scale(0.1 -0.1)\">\n       <use xlink:href=\"#DejaVuSans-48\"/>\n      </g>\n     </g>\n    </g>\n    <g id=\"xtick_3\">\n     <g id=\"line2d_3\">\n      <g>\n       <use style=\"stroke:#000000;stroke-width:0.8;\" x=\"242.92976\" xlink:href=\"#mbbdd58ccf7\" y=\"224.64\"/>\n      </g>\n     </g>\n     <g id=\"text_3\">\n      <!-- 1 -->\n      <g transform=\"translate(239.74851 239.238437)scale(0.1 -0.1)\">\n       <use xlink:href=\"#DejaVuSans-49\"/>\n      </g>\n     </g>\n    </g>\n    <g id=\"xtick_4\">\n     <g id=\"line2d_4\">\n      <g>\n       <use style=\"stroke:#000000;stroke-width:0.8;\" x=\"313.268519\" xlink:href=\"#mbbdd58ccf7\" y=\"224.64\"/>\n      </g>\n     </g>\n     <g id=\"text_4\">\n      <!-- 2 -->\n      <defs>\n       <path d=\"M 19.1875 8.296875 \nL 53.609375 8.296875 \nL 53.609375 0 \nL 7.328125 0 \nL 7.328125 8.296875 \nQ 12.9375 14.109375 22.625 23.890625 \nQ 32.328125 33.6875 34.8125 36.53125 \nQ 39.546875 41.84375 41.421875 45.53125 \nQ 43.3125 49.21875 43.3125 52.78125 \nQ 43.3125 58.59375 39.234375 62.25 \nQ 35.15625 65.921875 28.609375 65.921875 \nQ 23.96875 65.921875 18.8125 64.3125 \nQ 13.671875 62.703125 7.8125 59.421875 \nL 7.8125 69.390625 \nQ 13.765625 71.78125 18.9375 73 \nQ 24.125 74.21875 28.421875 74.21875 \nQ 39.75 74.21875 46.484375 68.546875 \nQ 53.21875 62.890625 53.21875 53.421875 \nQ 53.21875 48.921875 51.53125 44.890625 \nQ 49.859375 40.875 45.40625 35.40625 \nQ 44.1875 33.984375 37.640625 27.21875 \nQ 31.109375 20.453125 19.1875 8.296875 \nz\n\" id=\"DejaVuSans-50\"/>\n      </defs>\n      <g transform=\"translate(310.087269 239.238437)scale(0.1 -0.1)\">\n       <use xlink:href=\"#DejaVuSans-50\"/>\n      </g>\n     </g>\n    </g>\n   </g>\n   <g id=\"matplotlib.axis_2\">\n    <g id=\"ytick_1\">\n     <g id=\"line2d_5\">\n      <defs>\n       <path d=\"M 0 0 \nL -3.5 0 \n\" id=\"m437c01562b\" style=\"stroke:#000000;stroke-width:0.8;\"/>\n      </defs>\n      <g>\n       <use style=\"stroke:#000000;stroke-width:0.8;\" x=\"38.482813\" xlink:href=\"#m437c01562b\" y=\"196.91455\"/>\n      </g>\n     </g>\n     <g id=\"text_5\">\n      <!-- −0.5 -->\n      <defs>\n       <path d=\"M 10.6875 12.40625 \nL 21 12.40625 \nL 21 0 \nL 10.6875 0 \nz\n\" id=\"DejaVuSans-46\"/>\n       <path d=\"M 10.796875 72.90625 \nL 49.515625 72.90625 \nL 49.515625 64.59375 \nL 19.828125 64.59375 \nL 19.828125 46.734375 \nQ 21.96875 47.46875 24.109375 47.828125 \nQ 26.265625 48.1875 28.421875 48.1875 \nQ 40.625 48.1875 47.75 41.5 \nQ 54.890625 34.8125 54.890625 23.390625 \nQ 54.890625 11.625 47.5625 5.09375 \nQ 40.234375 -1.421875 26.90625 -1.421875 \nQ 22.3125 -1.421875 17.546875 -0.640625 \nQ 12.796875 0.140625 7.71875 1.703125 \nL 7.71875 11.625 \nQ 12.109375 9.234375 16.796875 8.0625 \nQ 21.484375 6.890625 26.703125 6.890625 \nQ 35.15625 6.890625 40.078125 11.328125 \nQ 45.015625 15.765625 45.015625 23.390625 \nQ 45.015625 31 40.078125 35.4375 \nQ 35.15625 39.890625 26.703125 39.890625 \nQ 22.75 39.890625 18.8125 39.015625 \nQ 14.890625 38.140625 10.796875 36.28125 \nz\n\" id=\"DejaVuSans-53\"/>\n      </defs>\n      <g transform=\"translate(7.2 200.713769)scale(0.1 -0.1)\">\n       <use xlink:href=\"#DejaVuSans-8722\"/>\n       <use x=\"83.789062\" xlink:href=\"#DejaVuSans-48\"/>\n       <use x=\"147.412109\" xlink:href=\"#DejaVuSans-46\"/>\n       <use x=\"179.199219\" xlink:href=\"#DejaVuSans-53\"/>\n      </g>\n     </g>\n    </g>\n    <g id=\"ytick_2\">\n     <g id=\"line2d_6\">\n      <g>\n       <use style=\"stroke:#000000;stroke-width:0.8;\" x=\"38.482813\" xlink:href=\"#m437c01562b\" y=\"167.724283\"/>\n      </g>\n     </g>\n     <g id=\"text_6\">\n      <!-- 0.0 -->\n      <g transform=\"translate(15.579688 171.523502)scale(0.1 -0.1)\">\n       <use xlink:href=\"#DejaVuSans-48\"/>\n       <use x=\"63.623047\" xlink:href=\"#DejaVuSans-46\"/>\n       <use x=\"95.410156\" xlink:href=\"#DejaVuSans-48\"/>\n      </g>\n     </g>\n    </g>\n    <g id=\"ytick_3\">\n     <g id=\"line2d_7\">\n      <g>\n       <use style=\"stroke:#000000;stroke-width:0.8;\" x=\"38.482813\" xlink:href=\"#m437c01562b\" y=\"138.534016\"/>\n      </g>\n     </g>\n     <g id=\"text_7\">\n      <!-- 0.5 -->\n      <g transform=\"translate(15.579688 142.333235)scale(0.1 -0.1)\">\n       <use xlink:href=\"#DejaVuSans-48\"/>\n       <use x=\"63.623047\" xlink:href=\"#DejaVuSans-46\"/>\n       <use x=\"95.410156\" xlink:href=\"#DejaVuSans-53\"/>\n      </g>\n     </g>\n    </g>\n    <g id=\"ytick_4\">\n     <g id=\"line2d_8\">\n      <g>\n       <use style=\"stroke:#000000;stroke-width:0.8;\" x=\"38.482813\" xlink:href=\"#m437c01562b\" y=\"109.343749\"/>\n      </g>\n     </g>\n     <g id=\"text_8\">\n      <!-- 1.0 -->\n      <g transform=\"translate(15.579688 113.142968)scale(0.1 -0.1)\">\n       <use xlink:href=\"#DejaVuSans-49\"/>\n       <use x=\"63.623047\" xlink:href=\"#DejaVuSans-46\"/>\n       <use x=\"95.410156\" xlink:href=\"#DejaVuSans-48\"/>\n      </g>\n     </g>\n    </g>\n    <g id=\"ytick_5\">\n     <g id=\"line2d_9\">\n      <g>\n       <use style=\"stroke:#000000;stroke-width:0.8;\" x=\"38.482813\" xlink:href=\"#m437c01562b\" y=\"80.153482\"/>\n      </g>\n     </g>\n     <g id=\"text_9\">\n      <!-- 1.5 -->\n      <g transform=\"translate(15.579688 83.952701)scale(0.1 -0.1)\">\n       <use xlink:href=\"#DejaVuSans-49\"/>\n       <use x=\"63.623047\" xlink:href=\"#DejaVuSans-46\"/>\n       <use x=\"95.410156\" xlink:href=\"#DejaVuSans-53\"/>\n      </g>\n     </g>\n    </g>\n    <g id=\"ytick_6\">\n     <g id=\"line2d_10\">\n      <g>\n       <use style=\"stroke:#000000;stroke-width:0.8;\" x=\"38.482813\" xlink:href=\"#m437c01562b\" y=\"50.963215\"/>\n      </g>\n     </g>\n     <g id=\"text_10\">\n      <!-- 2.0 -->\n      <g transform=\"translate(15.579688 54.762434)scale(0.1 -0.1)\">\n       <use xlink:href=\"#DejaVuSans-50\"/>\n       <use x=\"63.623047\" xlink:href=\"#DejaVuSans-46\"/>\n       <use x=\"95.410156\" xlink:href=\"#DejaVuSans-48\"/>\n      </g>\n     </g>\n    </g>\n    <g id=\"ytick_7\">\n     <g id=\"line2d_11\">\n      <g>\n       <use style=\"stroke:#000000;stroke-width:0.8;\" x=\"38.482813\" xlink:href=\"#m437c01562b\" y=\"21.772948\"/>\n      </g>\n     </g>\n     <g id=\"text_11\">\n      <!-- 2.5 -->\n      <g transform=\"translate(15.579688 25.572167)scale(0.1 -0.1)\">\n       <use xlink:href=\"#DejaVuSans-50\"/>\n       <use x=\"63.623047\" xlink:href=\"#DejaVuSans-46\"/>\n       <use x=\"95.410156\" xlink:href=\"#DejaVuSans-53\"/>\n      </g>\n     </g>\n    </g>\n   </g>\n   <g id=\"line2d_12\">\n    <defs>\n     <path d=\"M 0 3 \nC 0.795609 3 1.55874 2.683901 2.12132 2.12132 \nC 2.683901 1.55874 3 0.795609 3 0 \nC 3 -0.795609 2.683901 -1.55874 2.12132 -2.12132 \nC 1.55874 -2.683901 0.795609 -3 0 -3 \nC -0.795609 -3 -1.55874 -2.683901 -2.12132 -2.12132 \nC -2.683901 -1.55874 -3 -0.795609 -3 0 \nC -3 0.795609 -2.683901 1.55874 -2.12132 2.12132 \nC -1.55874 2.683901 -0.795609 3 0 3 \nz\n\" id=\"md470d08f58\" style=\"stroke:#ff0000;\"/>\n    </defs>\n    <g clip-path=\"url(#pa88297a7e9)\">\n     <use style=\"fill:#ff0000;stroke:#ff0000;\" x=\"234.463243\" xlink:href=\"#md470d08f58\" y=\"67.170759\"/>\n     <use style=\"fill:#ff0000;stroke:#ff0000;\" x=\"54.262727\" xlink:href=\"#md470d08f58\" y=\"214.671881\"/>\n     <use style=\"fill:#ff0000;stroke:#ff0000;\" x=\"60.885084\" xlink:href=\"#md470d08f58\" y=\"102.307222\"/>\n     <use style=\"fill:#ff0000;stroke:#ff0000;\" x=\"176.609273\" xlink:href=\"#md470d08f58\" y=\"103.227131\"/>\n     <use style=\"fill:#ff0000;stroke:#ff0000;\" x=\"203.262382\" xlink:href=\"#md470d08f58\" y=\"203.730007\"/>\n     <use style=\"fill:#ff0000;stroke:#ff0000;\" x=\"213.495606\" xlink:href=\"#md470d08f58\" y=\"214.756364\"/>\n     <use style=\"fill:#ff0000;stroke:#ff0000;\" x=\"133.167613\" xlink:href=\"#md470d08f58\" y=\"171.616581\"/>\n     <use style=\"fill:#ff0000;stroke:#ff0000;\" x=\"231.369646\" xlink:href=\"#md470d08f58\" y=\"97.98186\"/>\n     <use style=\"fill:#ff0000;stroke:#ff0000;\" x=\"263.342644\" xlink:href=\"#md470d08f58\" y=\"164.511278\"/>\n     <use style=\"fill:#ff0000;stroke:#ff0000;\" x=\"178.30316\" xlink:href=\"#md470d08f58\" y=\"157.536395\"/>\n     <use style=\"fill:#ff0000;stroke:#ff0000;\" x=\"292.906558\" xlink:href=\"#md470d08f58\" y=\"174.894686\"/>\n     <use style=\"fill:#ff0000;stroke:#ff0000;\" x=\"185.293733\" xlink:href=\"#md470d08f58\" y=\"122.607797\"/>\n     <use style=\"fill:#ff0000;stroke:#ff0000;\" x=\"53.700994\" xlink:href=\"#md470d08f58\" y=\"102.080453\"/>\n     <use style=\"fill:#ff0000;stroke:#ff0000;\" x=\"150.588046\" xlink:href=\"#md470d08f58\" y=\"147.499991\"/>\n     <use style=\"fill:#ff0000;stroke:#ff0000;\" x=\"358.064631\" xlink:href=\"#md470d08f58\" y=\"78.934226\"/>\n     <use style=\"fill:#ff0000;stroke:#ff0000;\" x=\"225.623577\" xlink:href=\"#md470d08f58\" y=\"133.880109\"/>\n     <use style=\"fill:#ff0000;stroke:#ff0000;\" x=\"66.449361\" xlink:href=\"#md470d08f58\" y=\"209.602535\"/>\n     <use style=\"fill:#ff0000;stroke:#ff0000;\" x=\"212.305392\" xlink:href=\"#md470d08f58\" y=\"142.927964\"/>\n     <use style=\"fill:#ff0000;stroke:#ff0000;\" x=\"313.161358\" xlink:href=\"#md470d08f58\" y=\"182.521523\"/>\n     <use style=\"fill:#ff0000;stroke:#ff0000;\" x=\"252.871226\" xlink:href=\"#md470d08f58\" y=\"125.017742\"/>\n    </g>\n   </g>\n   <g id=\"line2d_13\">\n    <defs>\n     <path d=\"M -3 3 \nL 3 3 \nL 3 -3 \nL -3 -3 \nz\n\" id=\"m315d8e62ed\" style=\"stroke:#0000ff;stroke-linejoin:miter;\"/>\n    </defs>\n    <g clip-path=\"url(#pa88297a7e9)\">\n     <use style=\"fill:#0000ff;stroke:#0000ff;stroke-linejoin:miter;\" x=\"346.487929\" xlink:href=\"#m315d8e62ed\" y=\"187.025462\"/>\n     <use style=\"fill:#0000ff;stroke:#0000ff;stroke-linejoin:miter;\" x=\"233.206636\" xlink:href=\"#m315d8e62ed\" y=\"84.648392\"/>\n     <use style=\"fill:#0000ff;stroke:#0000ff;stroke-linejoin:miter;\" x=\"287.251497\" xlink:href=\"#m315d8e62ed\" y=\"141.420283\"/>\n     <use style=\"fill:#0000ff;stroke:#0000ff;stroke-linejoin:miter;\" x=\"304.710969\" xlink:href=\"#m315d8e62ed\" y=\"131.584921\"/>\n     <use style=\"fill:#0000ff;stroke:#0000ff;stroke-linejoin:miter;\" x=\"232.716379\" xlink:href=\"#m315d8e62ed\" y=\"58.27788\"/>\n     <use style=\"fill:#0000ff;stroke:#0000ff;stroke-linejoin:miter;\" x=\"211.467271\" xlink:href=\"#m315d8e62ed\" y=\"144.284591\"/>\n     <use style=\"fill:#0000ff;stroke:#0000ff;stroke-linejoin:miter;\" x=\"191.603479\" xlink:href=\"#m315d8e62ed\" y=\"98.926012\"/>\n     <use style=\"fill:#0000ff;stroke:#0000ff;stroke-linejoin:miter;\" x=\"329.360588\" xlink:href=\"#m315d8e62ed\" y=\"172.544585\"/>\n     <use style=\"fill:#0000ff;stroke:#0000ff;stroke-linejoin:miter;\" x=\"267.763747\" xlink:href=\"#m315d8e62ed\" y=\"37.700411\"/>\n     <use style=\"fill:#0000ff;stroke:#0000ff;stroke-linejoin:miter;\" x=\"96.240179\" xlink:href=\"#m315d8e62ed\" y=\"28.473432\"/>\n     <use style=\"fill:#0000ff;stroke:#0000ff;stroke-linejoin:miter;\" x=\"257.224212\" xlink:href=\"#m315d8e62ed\" y=\"47.212096\"/>\n     <use style=\"fill:#0000ff;stroke:#0000ff;stroke-linejoin:miter;\" x=\"239.129201\" xlink:href=\"#m315d8e62ed\" y=\"58.837229\"/>\n     <use style=\"fill:#0000ff;stroke:#0000ff;stroke-linejoin:miter;\" x=\"258.588887\" xlink:href=\"#m315d8e62ed\" y=\"103.650502\"/>\n     <use style=\"fill:#0000ff;stroke:#0000ff;stroke-linejoin:miter;\" x=\"224.862737\" xlink:href=\"#m315d8e62ed\" y=\"108.277817\"/>\n     <use style=\"fill:#0000ff;stroke:#0000ff;stroke-linejoin:miter;\" x=\"304.821544\" xlink:href=\"#m315d8e62ed\" y=\"111.453215\"/>\n     <use style=\"fill:#0000ff;stroke:#0000ff;stroke-linejoin:miter;\" x=\"164.381026\" xlink:href=\"#m315d8e62ed\" y=\"76.396541\"/>\n     <use style=\"fill:#0000ff;stroke:#0000ff;stroke-linejoin:miter;\" x=\"220.851155\" xlink:href=\"#m315d8e62ed\" y=\"17.083636\"/>\n     <use style=\"fill:#0000ff;stroke:#0000ff;stroke-linejoin:miter;\" x=\"274.702697\" xlink:href=\"#m315d8e62ed\" y=\"83.0748\"/>\n     <use style=\"fill:#0000ff;stroke:#0000ff;stroke-linejoin:miter;\" x=\"265.364876\" xlink:href=\"#m315d8e62ed\" y=\"85.176741\"/>\n     <use style=\"fill:#0000ff;stroke:#0000ff;stroke-linejoin:miter;\" x=\"155.694384\" xlink:href=\"#m315d8e62ed\" y=\"88.560127\"/>\n    </g>\n   </g>\n   <g id=\"patch_3\">\n    <path d=\"M 38.482813 224.64 \nL 38.482813 7.2 \n\" style=\"fill:none;stroke:#000000;stroke-linecap:square;stroke-linejoin:miter;stroke-width:0.8;\"/>\n   </g>\n   <g id=\"patch_4\">\n    <path d=\"M 373.282813 224.64 \nL 373.282813 7.2 \n\" style=\"fill:none;stroke:#000000;stroke-linecap:square;stroke-linejoin:miter;stroke-width:0.8;\"/>\n   </g>\n   <g id=\"patch_5\">\n    <path d=\"M 38.482812 224.64 \nL 373.282812 224.64 \n\" style=\"fill:none;stroke:#000000;stroke-linecap:square;stroke-linejoin:miter;stroke-width:0.8;\"/>\n   </g>\n   <g id=\"patch_6\">\n    <path d=\"M 38.482812 7.2 \nL 373.282812 7.2 \n\" style=\"fill:none;stroke:#000000;stroke-linecap:square;stroke-linejoin:miter;stroke-width:0.8;\"/>\n   </g>\n  </g>\n </g>\n <defs>\n  <clipPath id=\"pa88297a7e9\">\n   <rect height=\"217.44\" width=\"334.8\" x=\"38.482813\" y=\"7.2\"/>\n  </clipPath>\n </defs>\n</svg>\n",
      "image/png": "[encoded data removed]"
     },
     "metadata": {
      "needs_background": "light"
     }
    }
   ],
   "source": [
    "plt.figure()\n",
    "plt.plot(points[:n, 0], points[:n, 1], 'ro')\n",
    "plt.plot(points[n:, 0], points[n:, 1], 'bs')\n",
    "plt.savefig('bivardat.pdf')"
   ]
  }
 ]
}